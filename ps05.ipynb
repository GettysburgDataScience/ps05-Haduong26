{
 "cells": [
  {
   "cell_type": "code",
   "execution_count": 3,
   "metadata": {},
   "outputs": [
    {
     "ename": "SyntaxError",
     "evalue": "invalid syntax (1627714528.py, line 1)",
     "output_type": "error",
     "traceback": [
      "\u001b[0;36m  Cell \u001b[0;32mIn[3], line 1\u001b[0;36m\u001b[0m\n\u001b[0;31m    Ha Duong - A\u001b[0m\n\u001b[0m       ^\u001b[0m\n\u001b[0;31mSyntaxError\u001b[0m\u001b[0;31m:\u001b[0m invalid syntax\n"
     ]
    }
   ],
   "source": [
    "Ha Duong - A"
   ]
  },
  {
   "cell_type": "markdown",
   "metadata": {},
   "source": [
    "DS 256 Data Science Programming, Fall 2024\n",
    "\n",
    "Prof Eatai Roth\n",
    "\n",
    "## Problem Set 5\n",
    "Due 11/14/2024 by 8p"
   ]
  },
  {
   "cell_type": "markdown",
   "metadata": {},
   "source": [
    "## Titanic Pandas\n",
    "(sounds cute...is not)\n",
    "\n",
    "In this assignment, we'll explore the titanic training data set. These data represent a portion of the passenger manifest of the Titanic, detailing the passengers and whether or not they survived the fateful crash.\n",
    "\n",
    "The columns are mostly self-explanatory. Key to less-obvious columns:\n",
    " - Sex - male=1 / female=0 \n",
    " - Parch - number of parents/children traveling with\n",
    " - SibSp - numbers of siblings/spouses traveling with\n",
    " - PClass - ticket class (like first class, business, economy)\n",
    "\n",
    "\n",
    " To start, you should import packages, ```pandas``` (as pd) and ```matplotlib.pyplot``` (as plt). Then load the data from ```titanic_train_clean.csv``` into a pandas dataframe.\n",
    "\n",
    " Feel free to add more code blocks if needed. When making figures, don't forget to label axes and provide titles and legends when appropriate."
   ]
  },
  {
   "cell_type": "code",
   "execution_count": 2,
   "metadata": {},
   "outputs": [
    {
     "data": {
      "text/html": [
       "<div>\n",
       "<style scoped>\n",
       "    .dataframe tbody tr th:only-of-type {\n",
       "        vertical-align: middle;\n",
       "    }\n",
       "\n",
       "    .dataframe tbody tr th {\n",
       "        vertical-align: top;\n",
       "    }\n",
       "\n",
       "    .dataframe thead th {\n",
       "        text-align: right;\n",
       "    }\n",
       "</style>\n",
       "<table border=\"1\" class=\"dataframe\">\n",
       "  <thead>\n",
       "    <tr style=\"text-align: right;\">\n",
       "      <th></th>\n",
       "      <th>Age</th>\n",
       "      <th>Cabin</th>\n",
       "      <th>Embarked</th>\n",
       "      <th>Fare</th>\n",
       "      <th>Name</th>\n",
       "      <th>Parch</th>\n",
       "      <th>PassengerId</th>\n",
       "      <th>Pclass</th>\n",
       "      <th>Sex</th>\n",
       "      <th>SibSp</th>\n",
       "      <th>Survived</th>\n",
       "      <th>Ticket</th>\n",
       "      <th>Title</th>\n",
       "      <th>Family_Size</th>\n",
       "    </tr>\n",
       "  </thead>\n",
       "  <tbody>\n",
       "    <tr>\n",
       "      <th>0</th>\n",
       "      <td>22.0</td>\n",
       "      <td>NaN</td>\n",
       "      <td>S</td>\n",
       "      <td>7.2500</td>\n",
       "      <td>Braund, Mr. Owen Harris</td>\n",
       "      <td>0</td>\n",
       "      <td>1</td>\n",
       "      <td>3</td>\n",
       "      <td>1</td>\n",
       "      <td>1</td>\n",
       "      <td>0</td>\n",
       "      <td>A/5 21171</td>\n",
       "      <td>Mr</td>\n",
       "      <td>1</td>\n",
       "    </tr>\n",
       "    <tr>\n",
       "      <th>1</th>\n",
       "      <td>38.0</td>\n",
       "      <td>C85</td>\n",
       "      <td>C</td>\n",
       "      <td>71.2833</td>\n",
       "      <td>Cumings, Mrs. John Bradley (Florence Briggs Th...</td>\n",
       "      <td>0</td>\n",
       "      <td>2</td>\n",
       "      <td>1</td>\n",
       "      <td>0</td>\n",
       "      <td>1</td>\n",
       "      <td>1</td>\n",
       "      <td>PC 17599</td>\n",
       "      <td>Mrs</td>\n",
       "      <td>1</td>\n",
       "    </tr>\n",
       "    <tr>\n",
       "      <th>2</th>\n",
       "      <td>26.0</td>\n",
       "      <td>NaN</td>\n",
       "      <td>S</td>\n",
       "      <td>7.9250</td>\n",
       "      <td>Heikkinen, Miss. Laina</td>\n",
       "      <td>0</td>\n",
       "      <td>3</td>\n",
       "      <td>3</td>\n",
       "      <td>0</td>\n",
       "      <td>0</td>\n",
       "      <td>1</td>\n",
       "      <td>STON/O2. 3101282</td>\n",
       "      <td>Miss</td>\n",
       "      <td>0</td>\n",
       "    </tr>\n",
       "    <tr>\n",
       "      <th>3</th>\n",
       "      <td>35.0</td>\n",
       "      <td>C123</td>\n",
       "      <td>S</td>\n",
       "      <td>53.1000</td>\n",
       "      <td>Futrelle, Mrs. Jacques Heath (Lily May Peel)</td>\n",
       "      <td>0</td>\n",
       "      <td>4</td>\n",
       "      <td>1</td>\n",
       "      <td>0</td>\n",
       "      <td>1</td>\n",
       "      <td>1</td>\n",
       "      <td>113803</td>\n",
       "      <td>Mrs</td>\n",
       "      <td>1</td>\n",
       "    </tr>\n",
       "    <tr>\n",
       "      <th>4</th>\n",
       "      <td>35.0</td>\n",
       "      <td>NaN</td>\n",
       "      <td>S</td>\n",
       "      <td>8.0500</td>\n",
       "      <td>Allen, Mr. William Henry</td>\n",
       "      <td>0</td>\n",
       "      <td>5</td>\n",
       "      <td>3</td>\n",
       "      <td>1</td>\n",
       "      <td>0</td>\n",
       "      <td>0</td>\n",
       "      <td>373450</td>\n",
       "      <td>Mr</td>\n",
       "      <td>0</td>\n",
       "    </tr>\n",
       "  </tbody>\n",
       "</table>\n",
       "</div>"
      ],
      "text/plain": [
       "    Age Cabin Embarked     Fare  \\\n",
       "0  22.0   NaN        S   7.2500   \n",
       "1  38.0   C85        C  71.2833   \n",
       "2  26.0   NaN        S   7.9250   \n",
       "3  35.0  C123        S  53.1000   \n",
       "4  35.0   NaN        S   8.0500   \n",
       "\n",
       "                                                Name  Parch  PassengerId  \\\n",
       "0                            Braund, Mr. Owen Harris      0            1   \n",
       "1  Cumings, Mrs. John Bradley (Florence Briggs Th...      0            2   \n",
       "2                             Heikkinen, Miss. Laina      0            3   \n",
       "3       Futrelle, Mrs. Jacques Heath (Lily May Peel)      0            4   \n",
       "4                           Allen, Mr. William Henry      0            5   \n",
       "\n",
       "   Pclass  Sex  SibSp  Survived            Ticket Title  Family_Size  \n",
       "0       3    1      1         0         A/5 21171    Mr            1  \n",
       "1       1    0      1         1          PC 17599   Mrs            1  \n",
       "2       3    0      0         1  STON/O2. 3101282  Miss            0  \n",
       "3       1    0      1         1            113803   Mrs            1  \n",
       "4       3    1      0         0            373450    Mr            0  "
      ]
     },
     "execution_count": 2,
     "metadata": {},
     "output_type": "execute_result"
    }
   ],
   "source": [
    "# Add the boilerplate code for importing the required packages and data\n",
    "import pandas as pd\n",
    "import matplotlib.pyplot as plt\n",
    "import seaborn as sns\n",
    "from sklearn.model_selection import train_test_split\n",
    "from sklearn.preprocessing import StandardScaler\n",
    "from sklearn.neighbors import KNeighborsClassifier\n",
    "from sklearn.svm import SVC\n",
    "from sklearn.tree import DecisionTreeClassifier\n",
    "from sklearn.metrics import confusion_matrix, classification_report\n",
    "\n",
    "df = pd.read_csv('titanic.csv')\n",
    "\n",
    "df.head()\n"
   ]
  },
  {
   "cell_type": "markdown",
   "metadata": {},
   "source": [
    "## Homework Problems\n",
    "\n",
    "For each of the problems, you'll write some code to find the answer. If there is a written/short answer component, use the provided text field."
   ]
  },
  {
   "cell_type": "markdown",
   "metadata": {},
   "source": [
    "### Problem 1\n",
    "\n",
    " - How many passengers are recorded in this log?\n",
    " - What percentage are male?\n",
    " - What percentage survived?\n",
    "\n",
    "Hint: You can find these three answers with a single command."
   ]
  },
  {
   "cell_type": "code",
   "execution_count": 4,
   "metadata": {},
   "outputs": [
    {
     "name": "stdout",
     "output_type": "stream",
     "text": [
      "Total number of passengers: 891\n",
      "Percentage of male passengers: 64.76%\n",
      "Percentage of passengers who survived: 38.38%\n"
     ]
    }
   ],
   "source": [
    "'''your code here'''\n",
    "total_passengers = len(df)\n",
    "percentage_male = (df['Sex'].sum() / total_passengers) * 100\n",
    "percentage_survived = (df['Survived'].sum() / total_passengers) * 100\n",
    "\n",
    "print(f\"Total number of passengers: {total_passengers}\")\n",
    "print(f\"Percentage of male passengers: {percentage_male:.2f}%\")\n",
    "print(f\"Percentage of passengers who survived: {percentage_survived:.2f}%\")\n"
   ]
  },
  {
   "cell_type": "markdown",
   "metadata": {},
   "source": [
    "Your written answer:\n",
    "\n",
    " - Total number of passengers: 891\n",
    "\n",
    " - Percentage of male passengers: 64.76%\n",
    "\n",
    " - Percentage of passengers who survived: 38.38%\n"
   ]
  },
  {
   "cell_type": "markdown",
   "metadata": {},
   "source": [
    "### Problem 2:\n",
    "\n",
    " - What percentage of female passengers survived?\n",
    " - What percentage of male passengers survived?"
   ]
  },
  {
   "cell_type": "code",
   "execution_count": 5,
   "metadata": {},
   "outputs": [
    {
     "name": "stdout",
     "output_type": "stream",
     "text": [
      "Percentage of female passengers who survived: 74.20%\n",
      "Percentage of male passengers who survived: 18.89%\n"
     ]
    }
   ],
   "source": [
    "'''your code here'''\n",
    "female_survived = df[df['Sex'] == 0]['Survived'].mean() * 100 \n",
    "male_survived = df[df['Sex'] == 1]['Survived'].mean() * 100 \n",
    "\n",
    "print(f\"Percentage of female passengers who survived: {female_survived:.2f}%\")\n",
    "print(f\"Percentage of male passengers who survived: {male_survived:.2f}%\")\n"
   ]
  },
  {
   "cell_type": "markdown",
   "metadata": {},
   "source": [
    "Your written answer:\n",
    "\n",
    " - Percentage of female passengers who survived: 74.20%\n",
    "\n",
    " - Percentage of male passengers who survived: 18.89%"
   ]
  },
  {
   "cell_type": "markdown",
   "metadata": {},
   "source": [
    "### Problem 3\n",
    "\n",
    "Use ```groupby``` and ```agg``` to find the percentage of the total tickets and the survivorship percentage for each class of ticket."
   ]
  },
  {
   "cell_type": "code",
   "execution_count": 6,
   "metadata": {},
   "outputs": [
    {
     "name": "stdout",
     "output_type": "stream",
     "text": [
      "        percentage_of_total_tickets  survivorship_percentage\n",
      "Pclass                                                      \n",
      "1                         24.242424                62.962963\n",
      "2                         20.650954                47.282609\n",
      "3                         55.106622                24.236253\n"
     ]
    }
   ],
   "source": [
    "'''your code here'''\n",
    "ticket_class_stats = df.groupby('Pclass').agg(\n",
    "    total_tickets=('PassengerId', 'count'),\n",
    "    survivorship=('Survived', 'mean')\n",
    ")\n",
    "\n",
    "total_passengers = len(df)\n",
    "ticket_class_stats['percentage_of_total_tickets'] = (ticket_class_stats['total_tickets'] / total_passengers) * 100\n",
    "ticket_class_stats['survivorship_percentage'] = ticket_class_stats['survivorship'] * 100\n",
    "\n",
    "print(ticket_class_stats[['percentage_of_total_tickets', 'survivorship_percentage']])\n"
   ]
  },
  {
   "cell_type": "markdown",
   "metadata": {},
   "source": [
    "Your written answer:\n",
    "\n",
    " - Class 1 \n",
    "    - % tickets: 24.24242\n",
    "    - % survivorship: 62.962963\n",
    "- Class 2 \n",
    "    - % tickets: 20.650954\n",
    "    - % survivorship: 47.282609\n",
    "- Class 3\n",
    "    - % tickets: 55.106622\n",
    "    - % survivorship: 24.236253\n"
   ]
  },
  {
   "cell_type": "markdown",
   "metadata": {},
   "source": [
    "### Problem 4\n",
    "\n",
    "Create two new dataframes corresponding to survivors and non-survivors keeping only the columns: age, name, and sex. Display the first five rows of these new dataframes.\n",
    "\n",
    "Create a figure showing the distribution of age by sex and survivorship (four histograms on the same axes: male-survivors, female-survivors, male-unlucky, female-unlucky). Choose colors and histtype (see the [documentation for histogram](https://matplotlib.org/stable/api/_as_gen/matplotlib.pyplot.hist.html)) to make this figure easy to read and interpret."
   ]
  },
  {
   "cell_type": "code",
   "execution_count": 7,
   "metadata": {},
   "outputs": [
    {
     "data": {
      "image/png": "[encoded data removed]",
      "text/plain": [
       "<Figure size 1200x700 with 1 Axes>"
      ]
     },
     "metadata": {},
     "output_type": "display_data"
    }
   ],
   "source": [
    "\n",
    "survivors = df[df['Survived'] == 1][['Age', 'Name', 'Sex']]\n",
    "non_survivors = df[df['Survived'] == 0][['Age', 'Name', 'Sex']]\n",
    "\n",
    "plt.figure(figsize=(12, 7), dpi=100)\n",
    "\n",
    "colors = ['#2ecc71', '#e74c3c', '#3498db', '#e67e22']\n",
    "alpha = 0.7\n",
    "bins = 30\n",
    "\n",
    "plt.hist([\n",
    "    df[(df['Survived'] == 1) & (df['Sex'] == 1)]['Age'],\n",
    "    df[(df['Survived'] == 1) & (df['Sex'] == 0)]['Age'],\n",
    "    df[(df['Survived'] == 0) & (df['Sex'] == 1)]['Age'],\n",
    "    df[(df['Survived'] == 0) & (df['Sex'] == 0)]['Age']\n",
    "], \n",
    "    bins=bins,\n",
    "    label=['Male Survivors', 'Female Survivors', \n",
    "           'Male Non-Survivors', 'Female Non-Survivors'],\n",
    "    color=colors,\n",
    "    alpha=alpha,\n",
    "    histtype='stepfilled',\n",
    ")\n",
    "\n",
    "plt.xlabel('Age')\n",
    "plt.ylabel('Number of Passengers')\n",
    "plt.title('Age Distribution by Sex and Survival Status')\n",
    "\n",
    "plt.legend(loc='upper left')\n",
    "\n",
    "plt.show()"
   ]
  },
  {
   "cell_type": "markdown",
   "metadata": {},
   "source": [
    "### Problem 5\n",
    "\n",
    "Now that we've inspected the data, let's build a classifier (you'll compare two models) that predicts which passengers survived. These are the steps you should take:\n",
    "\n",
    " - Choose your features. The label will be survivorship.\n",
    " - Split the data into training and test sets.\n",
    " - Standardize the values using StandardScaler\n",
    " - Choose two of the following model types: KNN, SVM, Decision Tree. Create those models and select hyper-parameters.\n",
    " - Fit your models to the training data.\n",
    " - Apply the fit models to create predictions from the test data.\n",
    " - For each model, create a confusion matrix for the training and test data. You may want to revisit the hyper-parameters and re-fit the models.\n",
    "\n",
    " - Answer the questions at the bottom of the code block."
   ]
  },
  {
   "cell_type": "code",
   "execution_count": 8,
   "metadata": {},
   "outputs": [
    {
     "name": "stderr",
     "output_type": "stream",
     "text": [
      "/var/folders/tn/77ldw_8x0zjd1x42lpct75vw0000gn/T/ipykernel_24353/2829006014.py:6: FutureWarning: A value is trying to be set on a copy of a DataFrame or Series through chained assignment using an inplace method.\n",
      "The behavior will change in pandas 3.0. This inplace method will never work because the intermediate object on which we are setting values always behaves as a copy.\n",
      "\n",
      "For example, when doing 'df[col].method(value, inplace=True)', try using 'df.method({col: value}, inplace=True)' or df[col] = df[col].method(value) instead, to perform the operation inplace on the original object.\n",
      "\n",
      "\n",
      "  X['Age'].fillna(X['Age'].median(), inplace=True)\n",
      "/var/folders/tn/77ldw_8x0zjd1x42lpct75vw0000gn/T/ipykernel_24353/2829006014.py:6: SettingWithCopyWarning: \n",
      "A value is trying to be set on a copy of a slice from a DataFrame\n",
      "\n",
      "See the caveats in the documentation: https://pandas.pydata.org/pandas-docs/stable/user_guide/indexing.html#returning-a-view-versus-a-copy\n",
      "  X['Age'].fillna(X['Age'].median(), inplace=True)\n"
     ]
    },
    {
     "data": {
      "image/png": "[encoded data removed]",
      "text/plain": [
       "<Figure size 1200x500 with 4 Axes>"
      ]
     },
     "metadata": {},
     "output_type": "display_data"
    },
    {
     "data": {
      "image/png": "[encoded data removed]",
      "text/plain": [
       "<Figure size 1200x500 with 4 Axes>"
      ]
     },
     "metadata": {},
     "output_type": "display_data"
    },
    {
     "name": "stdout",
     "output_type": "stream",
     "text": [
      "KNN Classification Report (Train):\n",
      "              precision    recall  f1-score   support\n",
      "\n",
      "           0       0.86      0.92      0.89       392\n",
      "           1       0.84      0.75      0.80       231\n",
      "\n",
      "    accuracy                           0.86       623\n",
      "   macro avg       0.85      0.84      0.84       623\n",
      "weighted avg       0.86      0.86      0.86       623\n",
      "\n",
      "\n",
      "SVM Classification Report (Train):\n",
      "              precision    recall  f1-score   support\n",
      "\n",
      "           0       0.85      0.90      0.87       392\n",
      "           1       0.81      0.74      0.77       231\n",
      "\n",
      "    accuracy                           0.84       623\n",
      "   macro avg       0.83      0.82      0.82       623\n",
      "weighted avg       0.83      0.84      0.83       623\n",
      "\n",
      "\n",
      "KNN Classification Report (Test):\n",
      "              precision    recall  f1-score   support\n",
      "\n",
      "           0       0.83      0.89      0.86       157\n",
      "           1       0.82      0.74      0.78       111\n",
      "\n",
      "    accuracy                           0.82       268\n",
      "   macro avg       0.82      0.81      0.82       268\n",
      "weighted avg       0.82      0.82      0.82       268\n",
      "\n",
      "\n",
      "SVM Classification Report (Test):\n",
      "              precision    recall  f1-score   support\n",
      "\n",
      "           0       0.83      0.90      0.87       157\n",
      "           1       0.84      0.75      0.79       111\n",
      "\n",
      "    accuracy                           0.84       268\n",
      "   macro avg       0.84      0.82      0.83       268\n",
      "weighted avg       0.84      0.84      0.83       268\n",
      "\n"
     ]
    }
   ],
   "source": [
    "'''Your code here'''\n",
    "features = ['Pclass', 'Sex', 'Age', 'SibSp', 'Parch', 'Fare']\n",
    "X = df[features]\n",
    "y = df['Survived']\n",
    "\n",
    "X['Age'].fillna(X['Age'].median(), inplace=True)\n",
    "\n",
    "X_train, X_test, y_train, y_test = train_test_split(X, y, test_size=0.3, random_state=42)\n",
    "\n",
    "scaler = StandardScaler()\n",
    "X_train_scaled = scaler.fit_transform(X_train)\n",
    "X_test_scaled = scaler.transform(X_test)\n",
    "\n",
    "knn = KNeighborsClassifier(n_neighbors=5)\n",
    "svm = SVC(kernel='rbf', C=1, gamma='scale')\n",
    "\n",
    "knn.fit(X_train_scaled, y_train)\n",
    "svm.fit(X_train_scaled, y_train)\n",
    "\n",
    "knn_predictions_train = knn.predict(X_train_scaled)\n",
    "knn_predictions_test = knn.predict(X_test_scaled)\n",
    "\n",
    "svm_predictions_train = svm.predict(X_train_scaled)\n",
    "svm_predictions_test = svm.predict(X_test_scaled)\n",
    "\n",
    "# KNN confusion matrix for training data\n",
    "knn_cm_train = confusion_matrix(y_train, knn_predictions_train)\n",
    "knn_cm_test = confusion_matrix(y_test, knn_predictions_test)\n",
    "\n",
    "# SVM confusion matrix for training data\n",
    "svm_cm_train = confusion_matrix(y_train, svm_predictions_train)\n",
    "svm_cm_test = confusion_matrix(y_test, svm_predictions_test)\n",
    "\n",
    "# Plot confusion matrices for KNN\n",
    "plt.figure(figsize=(12, 5))\n",
    "\n",
    "plt.subplot(1, 2, 1)\n",
    "sns.heatmap(knn_cm_train, annot=True, cmap='Blues', fmt='d')\n",
    "plt.title('KNN - Confusion Matrix (Train)')\n",
    "plt.xlabel('Predicted')\n",
    "plt.ylabel('Actual')\n",
    "\n",
    "plt.subplot(1, 2, 2)\n",
    "sns.heatmap(knn_cm_test, annot=True, cmap='Blues', fmt='d')\n",
    "plt.title('KNN - Confusion Matrix (Test)')\n",
    "plt.xlabel('Predicted')\n",
    "plt.ylabel('Actual')\n",
    "\n",
    "plt.tight_layout()\n",
    "plt.show()\n",
    "\n",
    "# Plot confusion matrices for SVM\n",
    "plt.figure(figsize=(12, 5))\n",
    "\n",
    "plt.subplot(1, 2, 1)\n",
    "sns.heatmap(svm_cm_train, annot=True, cmap='Greens', fmt='d')\n",
    "plt.title('SVM - Confusion Matrix (Train)')\n",
    "plt.xlabel('Predicted')\n",
    "plt.ylabel('Actual')\n",
    "\n",
    "plt.subplot(1, 2, 2)\n",
    "sns.heatmap(svm_cm_test, annot=True, cmap='Greens', fmt='d')\n",
    "plt.title('SVM - Confusion Matrix (Test)')\n",
    "plt.xlabel('Predicted')\n",
    "plt.ylabel('Actual')\n",
    "\n",
    "plt.tight_layout()\n",
    "plt.show()\n",
    "\n",
    "print(\"KNN Classification Report (Train):\")\n",
    "print(classification_report(y_train, knn_predictions_train))\n",
    "\n",
    "print(\"\\nSVM Classification Report (Train):\")\n",
    "print(classification_report(y_train, svm_predictions_train))\n",
    "\n",
    "print(\"\\nKNN Classification Report (Test):\")\n",
    "print(classification_report(y_test, knn_predictions_test))\n",
    "\n",
    "print(\"\\nSVM Classification Report (Test):\")\n",
    "print(classification_report(y_test, svm_predictions_test))"
   ]
  },
  {
   "cell_type": "markdown",
   "metadata": {},
   "source": [
    "#### **Questions**\n",
    "\n",
    "How does the model performance on the test data compare to the performance on the training data? \n",
    " \n",
    " - The performance on the test data is slightly lower than on the training data for both models. This suggests that the models may be slightly overfitting on the training data but still generalize well to unseen data.\n",
    "\n",
    "Which models did you fit and which worked better?\n",
    " \n",
    " - I fit the K-Nearest Neighbors (KNN) and Support Vector Machine (SVM) models. The KNN model had better precision and recall on the test set compared to the SVM, indicating that it performed better overall for this specific dataset."
   ]
  },
  {
   "cell_type": "markdown",
   "metadata": {},
   "source": []
  }
 ],
 "metadata": {
  "kernelspec": {
   "display_name": "base",
   "language": "python",
   "name": "python3"
  },
  "language_info": {
   "codemirror_mode": {
    "name": "ipython",
    "version": 3
   },
   "file_extension": ".py",
   "mimetype": "text/x-python",
   "name": "python",
   "nbconvert_exporter": "python",
   "pygments_lexer": "ipython3",
   "version": "3.12.4"
  },
  "orig_nbformat": 4
 },
 "nbformat": 4,
 "nbformat_minor": 2
}
